{
 "cells": [
  {
   "cell_type": "code",
   "execution_count": 7,
   "metadata": {},
   "outputs": [],
   "source": [
    "import pandas as pd\n",
    "import numpy as np\n",
    "import matplotlib as plt"
   ]
  },
  {
   "cell_type": "code",
   "execution_count": 8,
   "metadata": {},
   "outputs": [
    {
     "data": {
      "text/html": [
       "<div>\n",
       "<style scoped>\n",
       "    .dataframe tbody tr th:only-of-type {\n",
       "        vertical-align: middle;\n",
       "    }\n",
       "\n",
       "    .dataframe tbody tr th {\n",
       "        vertical-align: top;\n",
       "    }\n",
       "\n",
       "    .dataframe thead th {\n",
       "        text-align: right;\n",
       "    }\n",
       "</style>\n",
       "<table border=\"1\" class=\"dataframe\">\n",
       "  <thead>\n",
       "    <tr style=\"text-align: right;\">\n",
       "      <th></th>\n",
       "      <th>PROPERTY_ZIPCODE</th>\n",
       "      <th>TOT_VAL</th>\n",
       "    </tr>\n",
       "  </thead>\n",
       "  <tbody>\n",
       "    <tr>\n",
       "      <th>0</th>\n",
       "      <td>750513060</td>\n",
       "      <td>103500</td>\n",
       "    </tr>\n",
       "    <tr>\n",
       "      <th>1</th>\n",
       "      <td>750513040</td>\n",
       "      <td>145500</td>\n",
       "    </tr>\n",
       "    <tr>\n",
       "      <th>2</th>\n",
       "      <td>750502208</td>\n",
       "      <td>168040</td>\n",
       "    </tr>\n",
       "  </tbody>\n",
       "</table>\n",
       "</div>"
      ],
      "text/plain": [
       "   PROPERTY_ZIPCODE  TOT_VAL\n",
       "0         750513060   103500\n",
       "1         750513040   145500\n",
       "2         750502208   168040"
      ]
     },
     "execution_count": 8,
     "metadata": {},
     "output_type": "execute_result"
    }
   ],
   "source": [
    "# read in\n",
    "file = \"Resources/dcad_combined-Copy1.csv\"\n",
    "df = pd.read_csv(file, usecols=['PROPERTY_ZIPCODE', 'TOT_VAL'])\n",
    "\n",
    "df.head(3)"
   ]
  },
  {
   "cell_type": "code",
   "execution_count": 9,
   "metadata": {},
   "outputs": [
    {
     "data": {
      "text/html": [
       "<div>\n",
       "<style scoped>\n",
       "    .dataframe tbody tr th:only-of-type {\n",
       "        vertical-align: middle;\n",
       "    }\n",
       "\n",
       "    .dataframe tbody tr th {\n",
       "        vertical-align: top;\n",
       "    }\n",
       "\n",
       "    .dataframe thead th {\n",
       "        text-align: right;\n",
       "    }\n",
       "</style>\n",
       "<table border=\"1\" class=\"dataframe\">\n",
       "  <thead>\n",
       "    <tr style=\"text-align: right;\">\n",
       "      <th></th>\n",
       "      <th>PROPERTY_ZIPCODE</th>\n",
       "      <th>TOT_VAL</th>\n",
       "      <th>TOTAL_VALUE</th>\n",
       "      <th>ZIPCODE</th>\n",
       "    </tr>\n",
       "  </thead>\n",
       "  <tbody>\n",
       "    <tr>\n",
       "      <th>0</th>\n",
       "      <td>750513060</td>\n",
       "      <td>103500</td>\n",
       "      <td>$103500</td>\n",
       "      <td>75051</td>\n",
       "    </tr>\n",
       "    <tr>\n",
       "      <th>1</th>\n",
       "      <td>750513040</td>\n",
       "      <td>145500</td>\n",
       "      <td>$145500</td>\n",
       "      <td>75051</td>\n",
       "    </tr>\n",
       "    <tr>\n",
       "      <th>2</th>\n",
       "      <td>750502208</td>\n",
       "      <td>168040</td>\n",
       "      <td>$168040</td>\n",
       "      <td>75050</td>\n",
       "    </tr>\n",
       "    <tr>\n",
       "      <th>3</th>\n",
       "      <td>750502277</td>\n",
       "      <td>200040</td>\n",
       "      <td>$200040</td>\n",
       "      <td>75050</td>\n",
       "    </tr>\n",
       "    <tr>\n",
       "      <th>4</th>\n",
       "      <td>750617840</td>\n",
       "      <td>151880</td>\n",
       "      <td>$151880</td>\n",
       "      <td>75061</td>\n",
       "    </tr>\n",
       "  </tbody>\n",
       "</table>\n",
       "</div>"
      ],
      "text/plain": [
       "   PROPERTY_ZIPCODE  TOT_VAL TOTAL_VALUE ZIPCODE\n",
       "0         750513060   103500     $103500   75051\n",
       "1         750513040   145500     $145500   75051\n",
       "2         750502208   168040     $168040   75050\n",
       "3         750502277   200040     $200040   75050\n",
       "4         750617840   151880     $151880   75061"
      ]
     },
     "execution_count": 9,
     "metadata": {},
     "output_type": "execute_result"
    }
   ],
   "source": [
    "# Use Map to format all the columns :add $\n",
    "pd.options.display.float_format = '${:,.2f}'.format\n",
    "#df=pd.DataFrame(df)\n",
    "df[\"TOTAL_VALUE\"] = df[\"TOT_VAL\"].map(\"${:.0f}\".format)\n",
    "#keep only 5 digit of zipcode\n",
    "df['ZIPCODE'] = df['PROPERTY_ZIPCODE'].astype(str).str[:5]\n",
    "\n",
    "df.head(5)"
   ]
  },
  {
   "cell_type": "code",
   "execution_count": 19,
   "metadata": {},
   "outputs": [],
   "source": [
    "zip_group = df.groupby('ZIPCODE')['TOT_VAL']\n",
    "\n",
    "zip_group = zip_group.mean().to_frame('TOT_VAL')\n",
    "\n",
    "zip_group.sort_values(by='TOT_VAL', ascending=False, inplace=True)\n",
    "\n",
    "zip_group_highest_val = zip_group.head(5)\n",
    "zip_group_lowest_val = zip_group.tail(5)\n"
   ]
  },
  {
   "cell_type": "code",
   "execution_count": 22,
   "metadata": {},
   "outputs": [
    {
     "data": {
      "text/html": [
       "<div>\n",
       "<style scoped>\n",
       "    .dataframe tbody tr th:only-of-type {\n",
       "        vertical-align: middle;\n",
       "    }\n",
       "\n",
       "    .dataframe tbody tr th {\n",
       "        vertical-align: top;\n",
       "    }\n",
       "\n",
       "    .dataframe thead th {\n",
       "        text-align: right;\n",
       "    }\n",
       "</style>\n",
       "<table border=\"1\" class=\"dataframe\">\n",
       "  <thead>\n",
       "    <tr style=\"text-align: right;\">\n",
       "      <th></th>\n",
       "      <th>TOT_VAL</th>\n",
       "    </tr>\n",
       "    <tr>\n",
       "      <th>ZIPCODE</th>\n",
       "      <th></th>\n",
       "    </tr>\n",
       "  </thead>\n",
       "  <tbody>\n",
       "    <tr>\n",
       "      <th>75205</th>\n",
       "      <td>$1,606,361.79</td>\n",
       "    </tr>\n",
       "    <tr>\n",
       "      <th>75225</th>\n",
       "      <td>$1,207,824.16</td>\n",
       "    </tr>\n",
       "    <tr>\n",
       "      <th>75201</th>\n",
       "      <td>$966,758.03</td>\n",
       "    </tr>\n",
       "    <tr>\n",
       "      <th>75209</th>\n",
       "      <td>$723,055.19</td>\n",
       "    </tr>\n",
       "    <tr>\n",
       "      <th>75230</th>\n",
       "      <td>$704,637.79</td>\n",
       "    </tr>\n",
       "  </tbody>\n",
       "</table>\n",
       "</div>"
      ],
      "text/plain": [
       "              TOT_VAL\n",
       "ZIPCODE              \n",
       "75205   $1,606,361.79\n",
       "75225   $1,207,824.16\n",
       "75201     $966,758.03\n",
       "75209     $723,055.19\n",
       "75230     $704,637.79"
      ]
     },
     "execution_count": 22,
     "metadata": {},
     "output_type": "execute_result"
    }
   ],
   "source": [
    "zip_group_highest_val"
   ]
  },
  {
   "cell_type": "code",
   "execution_count": 15,
   "metadata": {},
   "outputs": [
    {
     "data": {
      "text/plain": [
       "ZIPCODE\n",
       "75215   $53,040.15\n",
       "76065   $44,860.00\n",
       "75125   $42,103.22\n",
       "75247   $35,345.00\n",
       "75210   $33,010.14\n",
       "Name: TOT_VAL, dtype: float64"
      ]
     },
     "execution_count": 15,
     "metadata": {},
     "output_type": "execute_result"
    }
   ],
   "source": [
    "zip_group_lowest_val"
   ]
  },
  {
   "cell_type": "code",
   "execution_count": null,
   "metadata": {},
   "outputs": [],
   "source": [
    "\n",
    "total_unique_records=df['ACCOUNT_NUM'].nunique()\n",
    "#number_of_unique\n",
    "average_house_value=round(df['TOTAL_VALUE'].mean(),2)\n",
    "#average_price\n",
    "#agg_value=df['TOTAL_VALUE'].sum()\n",
    "\n",
    "#summery=pd.DataFrame({'total unique records':[total_unique_records],'average_house_value':[average_house_value],\\'agg_value':[agg_value]})\n",
    "#summery"
   ]
  },
  {
   "cell_type": "code",
   "execution_count": null,
   "metadata": {},
   "outputs": [],
   "source": [
    "# Purchase Count\n",
    "zipcount =df.groupby(\"ZIPCODE\")[\"ACCOUNT_NUM\"].count().to_frame(\" number by zipcode\")\n",
    "\n",
    "zipcount=zipcount.sort_values(by='number by zipcode', ascending=False)\n",
    "zipcount.head(10)\n",
    "# Total Rev by gender\n",
    "#genderT= purchase.groupby(\"Gender\")[\"Price\"].sum().to_frame(\"Total Rev amount\")\n",
    "\n",
    "#Players = purchase.groupby(\"Gender\")[\"SN\"].count().to_frame(\"Count of players\")\n",
    "\n",
    "# merge players with total rev by gender\n",
    "#merge= genderT.merge(Players, left_index=True, right_index=True)\n",
    "#add per person rev to the dataframe\n",
    "#merge[\"Per person rev\"] = round(merge[\"Total Rev amount\"]/merge[\"Count of players\"],2)\n"
   ]
  },
  {
   "cell_type": "code",
   "execution_count": null,
   "metadata": {},
   "outputs": [],
   "source": []
  }
 ],
 "metadata": {
  "kernel_info": {
   "name": "python3"
  },
  "kernelspec": {
   "display_name": "Python 3",
   "language": "python",
   "name": "python3"
  },
  "language_info": {
   "codemirror_mode": {
    "name": "ipython",
    "version": 3
   },
   "file_extension": ".py",
   "mimetype": "text/x-python",
   "name": "python",
   "nbconvert_exporter": "python",
   "pygments_lexer": "ipython3",
   "version": "3.7.3"
  },
  "nteract": {
   "version": "0.2.0"
  }
 },
 "nbformat": 4,
 "nbformat_minor": 2
}
