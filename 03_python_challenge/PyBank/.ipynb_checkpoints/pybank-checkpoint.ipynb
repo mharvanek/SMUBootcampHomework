{
 "cells": [
  {
   "cell_type": "code",
   "execution_count": 461,
   "metadata": {},
   "outputs": [],
   "source": [
    "#Instructions\n",
    "# In this challenge, you are tasked with creating a Python script for analyzing the financial records of your company. You will give a set of financial data called [budget_data.csv](PyBank/Resources/budget_data.csv). The dataset is composed of two columns: `Date` and `Profit/Losses`. (Thankfully, your company has rather lax standards for accounting so the records are simple.)\n",
    "\n",
    "# Your task is to create a Python script that analyzes the records to calculate each of the following:\n",
    "\n",
    "  ## The total number of months included in the dataset\n",
    "\n",
    "  ## The net total amount of \"Profit/Losses\" over the entire period\n",
    "\n",
    "  ## The average of the changes in \"Profit/Losses\" over the entire period\n",
    "\n",
    "  ## The greatest increase in profits (date and amount) over the entire period\n",
    "\n",
    "  ## The greatest decrease in losses (date and amount) over the entire period\n",
    "\n",
    "# As an example, your analysis should look similar to the one below:\n",
    "\n",
    "#  Financial Analysis\n",
    "#  ----------------------------\n",
    "#  Total Months: 86\n",
    "#  Total: $38382578\n",
    "#  Average  Change: $-2315.12\n",
    "#  Greatest Increase in Profits: Feb-2012 ($1926159)\n",
    "#  Greatest Decrease in Profits: Sep-2013 ($-2196167)\n",
    "\n",
    "#* In addition, your final script should both print the analysis to the terminal and export a text file with the results."
   ]
  },
  {
   "cell_type": "code",
   "execution_count": 579,
   "metadata": {},
   "outputs": [],
   "source": [
    "# Module for reading CSV files\n",
    "import csv\n",
    "\n",
    "csvpath = 'D:/Workspace/Bootcamp/SMUDAL201905DATA5/02-Homework/03-Python/Instructions/PyBank/Resources/budget_data.csv'\n",
    "\n",
    "output = open('D:/Workspace/Bootcamp/python-challenge/PyBank/budget_data_output.txt', \"w\")\n",
    "header = [\"Financial Analysis \\n\", \"---------------------------- \\n\"]"
   ]
  },
  {
   "cell_type": "code",
   "execution_count": null,
   "metadata": {},
   "outputs": [],
   "source": [
    "#Initialize variables for loop\n",
    "total_months = 0 #There's 1 month for each row (column 0)\n",
    "total_profit = 0 #Sum Profit/Losses column (column 1)\n",
    "average_change = 0 \n",
    "month_to_month_change = 0\n",
    "greatest_increase_in_profits = 0\n",
    "greatest_decrease_in_profits = 0\n",
    "greatest_increase_month = \"\"\n",
    "greatest_decrease_month = \"\""
   ]
  },
  {
   "cell_type": "code",
   "execution_count": 580,
   "metadata": {},
   "outputs": [],
   "source": [
    "with open(csvpath, newline=\"\") as csvfile:\n",
    "\n",
    "    # CSV reader\n",
    "    csvreader = csv.reader(csvfile)\n",
    "\n",
    "    # Read the header row first (skip this step if there is no header)\n",
    "    csv_header = next(csvreader)\n",
    "    \n",
    "    # Convert to a list\n",
    "    csv_list = list(csvreader)\n",
    "\n",
    "    total_months = len(csv_list) # Set the number of months which is equal to number of rows in the file\n",
    "    total_profit = sum(int(i[1]) for i in csv_list) #sum each month's profit/loss\n",
    "    \n",
    "    #print(TotalMonths)\n",
    "    #print(TotalProfit)\n",
    "    \n",
    "    #loop to add month to month change to the list\n",
    "    for index, eachmonth in enumerate(csv_list): #use enumerate so each list is counted\n",
    "        if index > 0 and index <= len(csv_list): #start month to month changes after first row\n",
    "            month_to_month_change = int(csv_list[index][1]) - int(csv_list[index-1][1])\n",
    "            csv_list[index].append(month_to_month_change)\n",
    "    \n",
    "    average_change = sum(int(i[2]) / (len(csv_list)-1) for index, i in enumerate(csv_list) if index > 0)    \n",
    "    #print(AverageChange)\n",
    "    \n",
    "    greatest_increase_in_profits = max(int(i[2]) for index, i in enumerate(csv_list) if index > 0)\n",
    "    greatest_decrease_in_profits = min(int(i[2]) for index, i in enumerate(csv_list) if index > 0) \n",
    "    \n",
    "    #Can the month be found in a comprehension?\n",
    "    #greatest_increase_month = (i[0] for index, i in enumerate(csv_list) if index > 0 and i[2] == greatest_increase_in_profits)\n",
    "    \n",
    "    #print(f'greatest increase: {greatest_increase_in_profits}')\n",
    "    #print(f'greatest decrease: {greatest_decrease_in_profits}')\n",
    "    #print(f'greatest increase month: {greatest_increase_month}')\n",
    "    \n",
    "    for index, eachmonth2 in enumerate(csv_list):\n",
    "        if index > 0 and eachmonth2[2] == greatest_increase_in_profits:\n",
    "            greatest_increase_month = eachmonth2[0]\n",
    "        elif index > 0 and eachmonth2[2] == greatest_decrease_in_profits:\n",
    "            greatest_decrease_month = eachmonth2[0]\n",
    "    \n",
    "    #print(greatest_increase_month)\n",
    "    #print(greatest_decrease_month)\n",
    "            "
   ]
  },
  {
   "cell_type": "code",
   "execution_count": 581,
   "metadata": {},
   "outputs": [
    {
     "name": "stdout",
     "output_type": "stream",
     "text": [
      "Financial Analysis\n",
      "----------------------------\n",
      "Total Months: 86\n",
      "Total: $ 38382578\n",
      "Average Change: $ -2315.117647058827\n",
      "Greatest Increase in Profits:: Feb-2012 ($1926159)\n",
      "Greatest Decrease in Profits:: Sep-2013 ($-2196167)\n"
     ]
    }
   ],
   "source": [
    "#print to terminal\n",
    "print('Financial Analysis')\n",
    "print('----------------------------')\n",
    "print(f'Total Months: {total_months}')\n",
    "print(f'Total: $ {total_profit}')\n",
    "print(f'Average Change: $ {average_change}')\n",
    "print(f'Greatest Increase in Profits:: {greatest_increase_month} (${greatest_increase_in_profits})')\n",
    "print(f'Greatest Decrease in Profits:: {greatest_decrease_month} (${greatest_decrease_in_profits})')"
   ]
  },
  {
   "cell_type": "code",
   "execution_count": 582,
   "metadata": {},
   "outputs": [],
   "source": [
    "#output to file\n",
    "output.writelines(header)\n",
    "output.writelines('Total Months: ' + str(total_months) + \"\\n\")\n",
    "output.writelines('Total: ' + '$' + str(total_profit) + \"\\n\")\n",
    "output.writelines('Average Change: ' + '$' + str(average_change) + \"\\n\")\n",
    "output.close()"
   ]
  },
  {
   "cell_type": "code",
   "execution_count": null,
   "metadata": {},
   "outputs": [],
   "source": []
  }
 ],
 "metadata": {
  "kernelspec": {
   "display_name": "Python 3",
   "language": "python",
   "name": "python3"
  },
  "language_info": {
   "codemirror_mode": {
    "name": "ipython",
    "version": 3
   },
   "file_extension": ".py",
   "mimetype": "text/x-python",
   "name": "python",
   "nbconvert_exporter": "python",
   "pygments_lexer": "ipython3",
   "version": "3.7.1"
  }
 },
 "nbformat": 4,
 "nbformat_minor": 2
}
