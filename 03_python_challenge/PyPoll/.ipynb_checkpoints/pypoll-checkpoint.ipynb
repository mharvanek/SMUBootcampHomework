{
 "cells": [
  {
   "cell_type": "code",
   "execution_count": 308,
   "metadata": {},
   "outputs": [],
   "source": [
    "## PyPoll\n",
    "\n",
    "#[Vote-Counting](Images/Vote_counting.png)\n",
    "\n",
    "# In this challenge, you are tasked with helping a small, rural town modernize its vote-counting process. (Up until now, Uncle Cleetus had been trustfully tallying them one-by-one, but unfortunately, his concentration isn't what it used to be.)\n",
    "\n",
    "# You will be give a set of poll data called [election_data.csv](PyPoll/Resources/election_data.csv). \n",
    "# The dataset is composed of three columns: `Voter ID`, `County`, and `Candidate`. \n",
    "# Your task is to create a Python script that analyzes the votes and calculates each of the following:\n",
    "\n",
    "  # The total number of votes cast\n",
    "\n",
    "  # A complete list of candidates who received votes\n",
    "\n",
    "  # The percentage of votes each candidate won\n",
    "\n",
    "  # The total number of votes each candidate won\n",
    "\n",
    "  # The winner of the election based on popular vote.\n",
    "\n",
    "# As an example, your analysis should look similar to the one below:\n",
    "\n",
    "#  Election Results\n",
    "#  -------------------------\n",
    "#  Total Votes: 3521001\n",
    "#  -------------------------\n",
    "#  Khan: 63.000% (2218231)\n",
    "#  Correy: 20.000% (704200)\n",
    "#  Li: 14.000% (492940)\n",
    "#  O'Tooley: 3.000% (105630)\n",
    "#  -------------------------\n",
    "#  Winner: Khan\n",
    "#  -------------------------"
   ]
  },
  {
   "cell_type": "code",
   "execution_count": 309,
   "metadata": {},
   "outputs": [],
   "source": [
    "# Module for reading CSV files\n",
    "import csv\n",
    "\n",
    "csvpath = 'Resources/election_data.csv'\n",
    "\n",
    "output = open('Resources/election_data_output.txt', \"w\")\n",
    "header = \"Election Results\"\n",
    "section_sep =\"-------------------------\""
   ]
  },
  {
   "cell_type": "code",
   "execution_count": 310,
   "metadata": {},
   "outputs": [],
   "source": [
    "#Variables\n",
    "votes_for_candidate = 0 #for incrementing the vote count for each candidate\n",
    "total_votes = 0 #total votes cast in the election\n",
    "election_results = {} #dictionary for candidate / votes\n",
    "winner = \"\" #candidate with the most votes"
   ]
  },
  {
   "cell_type": "code",
   "execution_count": 311,
   "metadata": {},
   "outputs": [],
   "source": [
    "#process file and put it in a list\n",
    "with open(csvpath, newline=\"\") as csvfile:\n",
    "\n",
    "    # CSV reader\n",
    "    csvreader = csv.reader(csvfile)\n",
    "\n",
    "    # Read the header row first (skip this step if there is no header)\n",
    "    csv_header = next(csvreader)\n",
    "    \n",
    "    # Convert to a list\n",
    "    csv_list = list(csvreader)\n",
    "\n",
    "    #just playing around with sorting a list\n",
    "    #csv_list.sort(key=lambda x: x[2])\n",
    "    \n",
    "    #print(csv_list[:10])"
   ]
  },
  {
   "cell_type": "code",
   "execution_count": 312,
   "metadata": {},
   "outputs": [],
   "source": [
    "#total votes\n",
    "total_votes = len(csv_list) #Set the total votes to the length of the list. One row for each vote"
   ]
  },
  {
   "cell_type": "code",
   "execution_count": 313,
   "metadata": {},
   "outputs": [],
   "source": [
    "#loop through to find unique candidates and count votes\n",
    "for candidates in csv_list:\n",
    "    if candidates[2] not in election_results.keys(): #check if the candidate is already in the dictionary\n",
    "        election_results[candidates[2]] = 1 #add to dictionary as key with first vote\n",
    "    else:\n",
    "        election_results[candidates[2]] = election_results[candidates[2]] + 1 #add a vote each time the candidate's name is in the list\n",
    "        \n",
    "#Who is the Winner?\n",
    "winner = max(election_results, key=election_results.get)\n",
    "\n",
    "#print(winner)\n",
    "#print(election_results)"
   ]
  },
  {
   "cell_type": "code",
   "execution_count": 314,
   "metadata": {},
   "outputs": [
    {
     "name": "stdout",
     "output_type": "stream",
     "text": [
      "Election Results\n",
      "-------------------------\n",
      "Total Votes: 3521001\n",
      "-------------------------\n",
      "Khan : 63.00% (2218231)\n",
      "Correy : 20.00% (704200)\n",
      "Li : 14.00% (492940)\n",
      "O'Tooley : 3.00% (105630)\n",
      "-------------------------\n",
      "Winner: Khan \n",
      "-------------------------\n"
     ]
    }
   ],
   "source": [
    "#print to terminal\n",
    "print(header)\n",
    "print(section_sep)\n",
    "print(f'Total Votes: {total_votes}')\n",
    "print(section_sep)\n",
    "for key, value in election_results.items() :\n",
    "        print(f'{key} : {\"{:.2%}\".format(value/total_votes)} ({value})' )\n",
    "print(section_sep)\n",
    "print(f'Winner: {winner} ')\n",
    "print(section_sep)"
   ]
  },
  {
   "cell_type": "code",
   "execution_count": 315,
   "metadata": {},
   "outputs": [],
   "source": [
    "#output to file\n",
    "output.writelines(f'{header}\\n')\n",
    "output.writelines(f'{section_sep}\\n')\n",
    "output.writelines(f'Total Votes: {total_votes}\\n')\n",
    "output.writelines(f'{section_sep}\\n')\n",
    "for key, value in election_results.items() :\n",
    "    output.writelines(f'{key} : {\"{:.2%}\".format(value/total_votes)} ({value})\\n' )\n",
    "output.writelines(f'{section_sep}\\n')\n",
    "output.writelines(f'Winner: {winner}\\n')\n",
    "output.writelines(f'{section_sep}\\n')\n",
    "output.close()"
   ]
  },
  {
   "cell_type": "code",
   "execution_count": null,
   "metadata": {},
   "outputs": [],
   "source": []
  }
 ],
 "metadata": {
  "kernelspec": {
   "display_name": "Python 3",
   "language": "python",
   "name": "python3"
  },
  "language_info": {
   "codemirror_mode": {
    "name": "ipython",
    "version": 3
   },
   "file_extension": ".py",
   "mimetype": "text/x-python",
   "name": "python",
   "nbconvert_exporter": "python",
   "pygments_lexer": "ipython3",
   "version": "3.7.1"
  }
 },
 "nbformat": 4,
 "nbformat_minor": 2
}
